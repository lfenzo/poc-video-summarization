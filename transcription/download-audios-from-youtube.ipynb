{
 "cells": [
  {
   "cell_type": "code",
   "execution_count": null,
   "id": "236aa44e-630e-44db-8d96-3624456b793a",
   "metadata": {},
   "outputs": [],
   "source": [
    "import os\n",
    "\n",
    "from pytube import YouTube\n",
    "from pydub import AudioSegment"
   ]
  },
  {
   "cell_type": "code",
   "execution_count": null,
   "id": "a2822b06-4678-4e1d-a9fb-c8bae6000dd2",
   "metadata": {},
   "outputs": [],
   "source": [
    "def download_and_extract_audio(youtube_url: str, output_filename: str, fmt: str = 'mp3') -> None:\n",
    "    try:\n",
    "        # Download the YouTube video\n",
    "        yt = YouTube(youtube_url)\n",
    "        video = yt.streams.filter(only_audio=True).first()\n",
    "        downloaded_file = video.download()\n",
    "        print(f\"Downloaded from {url=}\")\n",
    "\n",
    "        # Extract audio from the downloaded video\n",
    "        audio = AudioSegment.from_file(downloaded_file)\n",
    "        audio.export(f\"{output_filename}.{fmt}\", format=fmt)\n",
    "        print(f\"Audio extracted and saved as {output_filename=}\")\n",
    "\n",
    "        # Removing temporaty video file\n",
    "        os.remove(downloaded_file)\n",
    "\n",
    "    except Exception as e:\n",
    "        print(f\"An error occurred: {e}\")"
   ]
  },
  {
   "cell_type": "code",
   "execution_count": null,
   "id": "2e7ffe39-8d75-4ba2-92d5-779ce8fb02b0",
   "metadata": {},
   "outputs": [],
   "source": [
    "videos = {\n",
    "    'video1': 'https://www.youtube.com/watch?v=m4RgzZ7M7Cg',\n",
    "    'video2': 'https://www.youtube.com/watch?v=2rPVOWEA4hQ',\n",
    "    'video3': 'https://www.youtube.com/watch?v=zp9mQbGvndw&list=PLxI8Can9yAHc-_dZ6nsfoon08i2-4OvEk&index=14',\n",
    "    'video4': 'https://www.youtube.com/watch?v=vpnq4ki_5FM&list=PLvpJ4poxbUKTk3kTnUPbfL93Cs6Oj0Aj_&index=6',\n",
    "    'video5': 'https://www.youtube.com/watch?v=_rkCrg1JrQE',\n",
    "    'video6': 'https://www.youtube.com/watch?v=6lD2s848jLA',\n",
    "}\n",
    "\n",
    "if os.\n",
    "\n",
    "# Example usage\n",
    "for video, url in videos.items():\n",
    "    download_and_extract_audio(\n",
    "        youtube_url=url,\n",
    "        output_filename=os.path.join('audios', video),\n",
    "        fmt=\"mp3\"\n",
    "    )"
   ]
  }
 ],
 "metadata": {
  "kernelspec": {
   "display_name": "Python 3 (ipykernel)",
   "language": "python",
   "name": "python3"
  },
  "language_info": {
   "codemirror_mode": {
    "name": "ipython",
    "version": 3
   },
   "file_extension": ".py",
   "mimetype": "text/x-python",
   "name": "python",
   "nbconvert_exporter": "python",
   "pygments_lexer": "ipython3",
   "version": "3.12.4"
  }
 },
 "nbformat": 4,
 "nbformat_minor": 5
}
