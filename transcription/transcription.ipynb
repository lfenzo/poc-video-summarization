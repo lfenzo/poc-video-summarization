{
 "cells": [
  {
   "cell_type": "code",
   "execution_count": 1,
   "id": "e1616601-4a13-4e2a-8ea4-820ecd247331",
   "metadata": {
    "execution": {
     "iopub.execute_input": "2024-07-12T13:34:25.535242Z",
     "iopub.status.busy": "2024-07-12T13:34:25.535168Z",
     "iopub.status.idle": "2024-07-12T13:34:26.215818Z",
     "shell.execute_reply": "2024-07-12T13:34:26.215437Z",
     "shell.execute_reply.started": "2024-07-12T13:34:25.535234Z"
    }
   },
   "outputs": [],
   "source": [
    "import os\n",
    "import pandas as pd\n",
    "import whisper"
   ]
  },
  {
   "cell_type": "code",
   "execution_count": 2,
   "id": "840b2c54-e2eb-42c3-be14-07eb0aa971d1",
   "metadata": {
    "execution": {
     "iopub.execute_input": "2024-07-12T13:34:26.216319Z",
     "iopub.status.busy": "2024-07-12T13:34:26.216185Z",
     "iopub.status.idle": "2024-07-12T13:34:49.983245Z",
     "shell.execute_reply": "2024-07-12T13:34:49.982721Z",
     "shell.execute_reply.started": "2024-07-12T13:34:26.216310Z"
    }
   },
   "outputs": [],
   "source": [
    "model_size = 'large'\n",
    "audio_file = \"video2.mp3\"\n",
    "audio_directory = 'audios'\n",
    "transcription_directory = 'transcriptions'\n",
    "\n",
    "model = whisper.load_model(model_size)\n",
    "result = model.transcribe(os.path.join(audio_directory, audio_file))\n",
    "\n",
    "del model  # manually deallocating VRAM (prevents OutOfMemory when reexecuting this cell)"
   ]
  },
  {
   "cell_type": "code",
   "execution_count": 3,
   "id": "8d7a0758-b85b-42bf-af90-274d6d2e7960",
   "metadata": {
    "execution": {
     "iopub.execute_input": "2024-07-12T13:34:49.984182Z",
     "iopub.status.busy": "2024-07-12T13:34:49.983846Z",
     "iopub.status.idle": "2024-07-12T13:34:49.986824Z",
     "shell.execute_reply": "2024-07-12T13:34:49.986665Z",
     "shell.execute_reply.started": "2024-07-12T13:34:49.984172Z"
    }
   },
   "outputs": [
    {
     "data": {
      "text/plain": [
       "dict_keys(['text', 'segments', 'language'])"
      ]
     },
     "execution_count": 3,
     "metadata": {},
     "output_type": "execute_result"
    }
   ],
   "source": [
    "result.keys()"
   ]
  },
  {
   "cell_type": "code",
   "execution_count": 4,
   "id": "f9d83f8a-249c-4b4a-a3a4-a8ca4e97931a",
   "metadata": {
    "execution": {
     "iopub.execute_input": "2024-07-12T13:34:49.987344Z",
     "iopub.status.busy": "2024-07-12T13:34:49.987067Z",
     "iopub.status.idle": "2024-07-12T13:34:50.004739Z",
     "shell.execute_reply": "2024-07-12T13:34:50.004405Z",
     "shell.execute_reply.started": "2024-07-12T13:34:49.987330Z"
    }
   },
   "outputs": [],
   "source": [
    "transcription_file = os.path.join(transcription_directory, f\"{model_size}_{audio_file.split('.')[0]}.txt\")\n",
    "\n",
    "if not os.path.exists(transcription_directory):\n",
    "    os.mkdir(transcription_directory)\n",
    "\n",
    "with open(transcription_file, 'w') as file:\n",
    "    file.write(result['text'])"
   ]
  },
  {
   "cell_type": "code",
   "execution_count": 5,
   "id": "d5c2cb22-dbb1-4d55-a439-414b6fd29133",
   "metadata": {
    "execution": {
     "iopub.execute_input": "2024-07-12T13:34:50.005297Z",
     "iopub.status.busy": "2024-07-12T13:34:50.005160Z",
     "iopub.status.idle": "2024-07-12T13:34:50.015642Z",
     "shell.execute_reply": "2024-07-12T13:34:50.015445Z",
     "shell.execute_reply.started": "2024-07-12T13:34:50.005285Z"
    }
   },
   "outputs": [
    {
     "data": {
      "text/plain": [
       "' Quando queremos viajar para outro país, nós podemos comprar roupas e comida usando o dinheiro do Brasil? Como nós convertemos preços de produtos internacionais para saber se eles estão caros ou baratos? Quer saber como trocar o nosso dinheiro por dinheiro de outros países? Então fica aí que eu vou te mostrar! Música de introdução A primeira conversão entre duas moedas de diferentes países é a taxa de câmbio. A taxa de câmbio é um instrumento monetário que permite a troca da moeda de um país por moedas de outros países. Ou seja, quando vamos para lugares que possuem moedas diferentes das aceitas em nosso país, realizamos a troca de valores entre estas duas moedas. E para realizarmos essa troca, precisamos de um meio em comum entre elas, sendo esse meio a cotação. Mas o que é uma cotação? Cotação é o valor de referência atribuído a uma determinada moeda que representa uma quantidade de moedas. E o que é uma cotação? É uma quantidade de moedas que representa uma quantidade de moedas. em relação a outra moeda. Vamos explicar. A cotação é o valor de que você precisa de uma moeda X para trocar por moedas Y. Por exemplo, se o dólar vale R$2 e eu quero comprar R$10, eu vou precisar então de R$20 brasileiros para adquirir eles. Sendo assim, a cotação é o multiplicador entre as moedas, que faz com que ambas valham o mesmo valor teórico. Mas como são definidas essas cotações? Para estipular os valores das moedas, existem três tipos principais de cotação, sendo elas, câmbio fixo. No regime de câmbio fixo, o valor da cotação é estipulado pela autoridade monetária e este é aceito por todas as instituições. Então, no modelo de câmbio fixo, a cotação vale quanto o banco central disser que ela vale. O grande problema deste regime é que além da moeda poder estar manipulada, o governo necessita de uma reserva gigante de moeda estrangeira para responder a variação das cotações. Ou seja, ele precisa ter reservas disponíveis para comprar e vender a moeda estrangeira a fim de deixar ela no patamar que ele quer. No regime de câmbio flutuante, as cotações são definidas pelo mercado. Ou seja, tudo depende da oferta e da demanda que o mercado exerce sobre a moeda. Quando a moeda é muito visada, seu valor aumenta por conta da sua escassez. Ou seja, muitas pessoas querendo o mesmo bem, fazem o seu preço subir. Já quando existe oferta em excesso, o câmbio tende a se desvalorizar. Então, no regime de flutuante, a cotação flutua livremente e tem o valor baseado na oferta e demanda da moeda. O terceiro modelo de cotação é chamado de bandas cambiais. Esse regime seria um mix dos dois regimes anteriores, pois nesse caso, a autoridade monetária estipula um valor de base e de teto para a cotação e permite que o mercado influa dentro destas faixas. Por exemplo, quando o governo diz que a cotação ficará entre R$ 1,80 e R$ 2,10, o mercado possui a liberdade para trabalhar dentro destas faixas livremente. Porém, quando o teto ou o piso for alcançado, o governo atua em cima da cotação. Por isso, o mercado tem a liberdade de trabalhar dentro destas faixas livremente. Porém, quando o teto ou o piso for alcançado, o governo atua em cima da cotação. Por isso, o mercado tem a liberdade de trabalhar dentro destas faixas livremente. Aqui no Brasil, o sistema que existe no controle da cotação das moedas estrangeiras, como é feito no caso do dólar, é feito através do regime de bandas cambiais, onde o Banco Central estipula um valor máximo e um mínimo aonde ele quer que a moeda fique. Então é isso! Agora você sabe o que é o câmbio, como ele influencia na hora de trocarmos moeda nacional por moeda estrangeira e para que ele serve. Na próxima semana, entenda como a entrada e saída de moeda estrangeira no Brasil afeta a nossa economia. Na próxima semana, entenda como a entrada e saída de moeda estrangeira no Brasil afeta a nossa economia. Se você gostou deste vídeo, já deixa um like aqui embaixo e compartilhe com seus amigos, porque assim a gente espalha conhecimento. Ah, visite também a nossa loja que tem o link da descrição aqui embaixo. Lá na nossa loja você encontra livros e e-books sobre economia. Até a próxima!'"
      ]
     },
     "execution_count": 5,
     "metadata": {},
     "output_type": "execute_result"
    }
   ],
   "source": [
    "result['text']"
   ]
  }
 ],
 "metadata": {
  "kernelspec": {
   "display_name": "Python 3 (ipykernel)",
   "language": "python",
   "name": "python3"
  },
  "language_info": {
   "codemirror_mode": {
    "name": "ipython",
    "version": 3
   },
   "file_extension": ".py",
   "mimetype": "text/x-python",
   "name": "python",
   "nbconvert_exporter": "python",
   "pygments_lexer": "ipython3",
   "version": "3.12.4"
  }
 },
 "nbformat": 4,
 "nbformat_minor": 5
}
