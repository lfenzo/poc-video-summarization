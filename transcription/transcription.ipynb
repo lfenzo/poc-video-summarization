{
 "cells": [
  {
   "cell_type": "code",
   "execution_count": 1,
   "id": "e1616601-4a13-4e2a-8ea4-820ecd247331",
   "metadata": {
    "execution": {
     "iopub.execute_input": "2024-07-12T14:54:54.455803Z",
     "iopub.status.busy": "2024-07-12T14:54:54.455687Z",
     "iopub.status.idle": "2024-07-12T14:54:55.271658Z",
     "shell.execute_reply": "2024-07-12T14:54:55.271371Z",
     "shell.execute_reply.started": "2024-07-12T14:54:54.455794Z"
    }
   },
   "outputs": [],
   "source": [
    "import os\n",
    "import pandas as pd\n",
    "import whisper"
   ]
  },
  {
   "cell_type": "code",
   "execution_count": 2,
   "id": "840b2c54-e2eb-42c3-be14-07eb0aa971d1",
   "metadata": {
    "execution": {
     "iopub.execute_input": "2024-07-12T14:54:55.272073Z",
     "iopub.status.busy": "2024-07-12T14:54:55.271963Z",
     "iopub.status.idle": "2024-07-12T14:56:06.225239Z",
     "shell.execute_reply": "2024-07-12T14:56:06.224941Z",
     "shell.execute_reply.started": "2024-07-12T14:54:55.272065Z"
    }
   },
   "outputs": [],
   "source": [
    "model_size = 'large'\n",
    "audio_file = \"video3.mp3\"\n",
    "audio_directory = 'audios'\n",
    "transcription_directory = 'transcriptions'\n",
    "\n",
    "model = whisper.load_model(model_size)\n",
    "result = model.transcribe(os.path.join(audio_directory, audio_file))\n",
    "\n",
    "del model  # manually deallocating VRAM (prevents OutOfMemory when reexecuting this cell)"
   ]
  },
  {
   "cell_type": "code",
   "execution_count": 3,
   "id": "8d7a0758-b85b-42bf-af90-274d6d2e7960",
   "metadata": {
    "execution": {
     "iopub.execute_input": "2024-07-12T14:56:06.225780Z",
     "iopub.status.busy": "2024-07-12T14:56:06.225700Z",
     "iopub.status.idle": "2024-07-12T14:56:06.228386Z",
     "shell.execute_reply": "2024-07-12T14:56:06.228242Z",
     "shell.execute_reply.started": "2024-07-12T14:56:06.225773Z"
    }
   },
   "outputs": [
    {
     "data": {
      "text/plain": [
       "dict_keys(['text', 'segments', 'language'])"
      ]
     },
     "execution_count": 3,
     "metadata": {},
     "output_type": "execute_result"
    }
   ],
   "source": [
    "result.keys()"
   ]
  },
  {
   "cell_type": "code",
   "execution_count": 4,
   "id": "f9d83f8a-249c-4b4a-a3a4-a8ca4e97931a",
   "metadata": {
    "execution": {
     "iopub.execute_input": "2024-07-12T14:56:06.228942Z",
     "iopub.status.busy": "2024-07-12T14:56:06.228825Z",
     "iopub.status.idle": "2024-07-12T14:56:06.245408Z",
     "shell.execute_reply": "2024-07-12T14:56:06.245247Z",
     "shell.execute_reply.started": "2024-07-12T14:56:06.228935Z"
    }
   },
   "outputs": [],
   "source": [
    "transcription_file = os.path.join(transcription_directory, f\"{model_size}_{audio_file.split('.')[0]}.txt\")\n",
    "\n",
    "if not os.path.exists(transcription_directory):\n",
    "    os.mkdir(transcription_directory)\n",
    "\n",
    "with open(transcription_file, 'w') as file:\n",
    "    file.write(result['text'])"
   ]
  },
  {
   "cell_type": "code",
   "execution_count": 5,
   "id": "d5c2cb22-dbb1-4d55-a439-414b6fd29133",
   "metadata": {
    "execution": {
     "iopub.execute_input": "2024-07-12T14:56:06.245764Z",
     "iopub.status.busy": "2024-07-12T14:56:06.245696Z",
     "iopub.status.idle": "2024-07-12T14:56:06.256456Z",
     "shell.execute_reply": "2024-07-12T14:56:06.256311Z",
     "shell.execute_reply.started": "2024-07-12T14:56:06.245758Z"
    }
   },
   "outputs": [
    {
     "data": {
      "text/plain": [
       "' Olá pessoal, sejam bem-vindos à aula de número 13, onde a gente vai falar sobre a camada de enlace, a última camada da pilha de protocolos da internet que contém software. Na aula anterior, a gente falou sobre os protocolos de roteamento na internet, a gente finalizou a camada de redes, onde a gente falou sobre os protocolos de roteamento, assim como o roteamento multicast, prodcast e multicast. Na aula de hoje, a gente vai descer essa camada, mais uma camada, a última camada de software, que seria a camada de enlace, e a gente vai também falar sobre os serviços que são oferecidos nessa camada de enlace. Então, o serviço... O que são oferecidos? Entre eles, a gente pode falar sobre enquadramento de pacotes. Nessa camada, então, os pacotes são chamados de quadros. Na camada de cima, de redes, então, eles são chamados de datagramas. A gente já viu isso, datagramas. E, finalmente, na camada de transporte, chamada de segmentos, também vimos isso. Segmentos, então, é o nome do pacote da camada de transporte. Finalmente, na camada de aplicação, elas são chamadas, como vocês sabem, de mensagens. Então, eu estou repetindo aqui rapidamente para vocês, mensagens ou mensagem. Quando a gente fala de enquadramento, seria encapsular os quadros dentro... dos pacotes, de forma que eles possam, então, ser transmitidos pela camada física. Então, assim como a gente vai tratar o acesso ao enlace, a entrega confiável e, finalmente, a parte de detecção e correção de erros. Então, esses são, essencialmente, os serviços que são oferecidos na camada de enlace. Bom, onde que ela é implementada, essa camada de enlace? Ela é implementada, então, nesse NIC. O que é esse NIC? Simples, gente. Placa de rede. Então, nesse NIC aqui, ela é implementada. Então, existe o quê? Existe esse NIC aqui, que seria essa transmissão física. Ela recebe pelo controlador, que seria o NIC, Network Interface Card, que seria esse NIC aí, considerado como computador autônomo. E muito, lembrando que muito do que é da camada de enlace, ela é realizada em nível de hardware. Isso que é dizer... Existe um circuito para fazer todo esse processamento específico na camada de enlace. Isso para que as operações realizadas na camada de enlace possam ser o quê? Possam ser mais rápidas. Então, entre elas, a gente pode citar o quê? Pode citar que existe detecção e correção de erros que são realizados em nível de hardware da camada de enlace. Então, onde que a camada de enlace é implementada? Na placa de rede. Por isso que a gente fala. Minha placa de rede é uma placa de rede o quê? Uma placa de rede para a internet. Uma placa de rede com suporte o quê? Suporte a IATM e assim por diante. Então, existe o quê? Existem placas de rede específicas para cada camada de enlace implementada. Então, cenário de detecção de erros. Um datagrama que vem da camada D, datagrama, vimos aqui, datagrama aqui, vimos que seria o quê? Que seria o pacote. O pacote, nome dado ao pacote da camada de rede. Então, um datagrama que vem da camada de rede, ele vem para a camada de enlace, forma o quê? Forma esse pacote aqui e forma os bits, os trailers, que a gente chama. Os trailers que são os bits de correção de erro. Passa por um canal sujeito a erros, chega no destinatário e verifica o quê? Tem erro ou não tem? Se tiver, tem que corrigir. Então, esse é o cenário de correção e detecção de erros. Uma das formas de corrigir e de detectar erros é o bit de paridade. Então, o bit de paridade simples é o paridade de linha. Aqui a gente tem o quê? Um bit de paridade cruzado aqui, onde a gente tem um bit de paridade no nível aqui de colunas, assim como no nível de linhas. De forma que um erro nesse ponto aqui, a gente possa indicar que houve o quê? Que houve aí um erro no bit zero. Se houve um erro no bit zero, então esse bit aí se torna o quê? Se torna um. Dessa forma, a gente tem como corrigir, então, os bits que são transmitidos. Os métodos de verificação já vimos anteriormente. Elas são implementadas em outras camadas, mas também são implementadas na camada de enlace. Então, isso aqui já vimos. De forma que é o mesmo mecanismo. Isso aqui é o mesmo mecanismo para correção, detecção de erros. Bom, o primeiro ponto que a gente vai ver da camada de enlace é justamente o quê? Justamente a parte do acesso múltiplo. Como é que eu posso dar acesso a camada? Como é que eu posso dar acesso a um meio que é compartilhado? Então, a mesma coisa. Se eu estou falando, se vocês querem falar, a primeira coisa que vocês têm que fazer é o quê? Acenar com a mão. Se vocês falarem ao mesmo tempo, ninguém vai ouvir. Vai virar uma bagunça. Assim também ocorre com o mundo das redes de computadores. Um fala de cada vez. De forma que não haja, então, essa colisão, como a gente chama, em redes de computadores. Então, um enlace ponto a ponto consiste em um único remetente e um único receptor na outra extremidade. Assim como o de difusão pode ter o quê? Pode ter vários destinatários. A partir de um único remetente. Então, existe o quê? Existem os protocolos de acesso múltiplo. De forma o quê? De forma que esse meio possa ser compartilhado. Cenário como esse aqui, como vocês viram, onde a gente tem um meio compartilhado. A DSL aqui, que seria o quê? Que seria um cabo coaxial, um cabo de fibra ótica, que é compartilhado por essas residências. Assim como existe o quê? Existe esse meio aqui de rede sem fio também, que é compartilhado por esses três. E esses três aí computadores. Então, a gente precisa o quê? A gente precisa de um mecanismo para alguém levantar a mão, um mecanismo aqui de compartilhamento do meio. Alguém para levantar a mão e dizer, eu quero falar. E aí fala e assim evita-se o quê? Evitam-se as colisões nessa comunicação. Outros meios seriam esses, como vocês estão vendo. Vamos assim, ambientes aí de acesso múltiplo a um canal aí que seria um canal compartilhado. Para isso existe o quê? Para isso existem diversas formas de acesso múltiplo, pelos dispositivos. Uma forma seria dividir o canal, utilizando temporalmente mecanismos temporais e mecanismos de frequência. Onde cada tempo aqui seria alocado para quê? Seria alocado para um hospedeiro. Assim como uma frequência, uma subfrequência seria alocado para uma determinada... Para a comunicação. Exemplo, vocês sabem, FM, rádios FM utilizam o quê? Utilizam então essa divisão por mecanismo de frequência. Uma analogia seria como essa. Um acesso aleatório é onde o canal não dividido permite o quê? Permite colisões. Então se houve colisões, ela tem que o quê? Tem que resolver essa colisão de forma que uma retransmissão possa ser operacionalizada. E a terceira forma? A terceira forma seria o quê? Seria a passagem de revezamento. Um coordenador dá a vez para cada uma dos quê? Dos componentes. Então se eu tenho um conjunto de alunos, eu pergunto para o primeiro aluno se ele quer falar. Se ele não quer, passo para o segundo, para o terceiro, para o quarto e assim por diante. E volto de novo para o primeiro. Então isso seria o quê? Isso seria o que a gente chama de seleção. O pólen, onde existe o quê? Existe um nó coordenador. E finalmente? Finalmente a passagem de permissão. Onde tem um token. Um token seria tipo uma ficha de papel. Onde eu passo essa ficha. Essa ficha, vamos dizer assim, ela é transportada entre os alunos, entre os nós que querem falar. E cada uma delas anota o que anota uma mensagem. A mensagem que quer que seja transportada. Então esse token aqui seria o quê? Esse token aqui, ela fica o quê? Ela fica... Se comunicando, fica circulando num ponto. Uma ficha que fica circulando dentro da rede. E quem quiser se comunicar, então vai pegar essa ficha e colocar a sua mensagem que quer ser transmitida para um destinatário. E esse destinatário também precisa ser informado aqui nessa ficha. Três fórmulas. Três formas de acesso múltiplo. Primeiro, dividindo o quê? Dividindo o canal. Seja por tempo, seja por quê? Por frequência. Segunda forma. O canal não é dividido. Permite colisões. Por exemplo, levantar a mão. Para que o aluno então possa falar. E assim eu evito o quê? Evito colisões. Se dois alunos levantarem a mão ao mesmo tempo, eu tenho que dar a vez para o primeiro. Talvez por ordem alfabética. Então dessa forma eu tenho um critério para permitir e tratar as colisões. Terceira forma. Seria revezamento, como eu expliquei então para vocês. Então temporalmente seria esse que eu acabei de explicar para vocês. Onde o protocolo FDM divide por frequência. Assim como existe a divisão de acesso múltiplo por quê? Por um código. Que a gente chama de Tipping Code. Que é utilizado, largamente utilizado em telefones celulares. CDMA tem um código onde essencialmente é como se fosse... Cada celular fala uma língua diferente. E assim as partes podem ouvir o que um está falando, mas não vai entender. Por exemplo, não entendo o alemão, mas entendo o português. Então se falo em português eu consigo entender. Então faço o quê? Faço um agreement aqui. Então isso seria o quê? Isso seria o código. Um código que vai permitir que uma... Vamos dizer assim. Um código diferenciado. Que a gente vai permitir que uma comunicação possa ser realizada. Bom, e de acesso aleatório? Então a gente falou primeiramente de divisão de canal. A gente vai falar agora de acesso aleatório. O acesso aleatório ocorre as colisões. E aí as colisões têm que ser tratadas. Então a gente tem aqui o Slotted Aloha. Nesse cenário eu tenho o quê? Eu tenho um slot aqui para cada um. Um tempo, vamos dizer assim, bem contábil. Então nesse slot aqui, três nós resolveram o quê? Resolveram falar. Um, dois e três. Então ocorreu o quê? Ocorreu uma colisão. Então espera um tempo e volta de novo para falar. Então nesse terceiro slot, dois nós tentaram falar ao mesmo tempo. E aí é como se fosse assim. Duas pessoas fizeram a pergunta ao mesmo tempo. Então tem que parar e dizer. Tem que colocar um critério aí. Ordem alfabética. Então vai lá o dois para falar no próximo slot. E assim por diante. Então o dois conseguiu mandar a mensagem. E aqui no um, dois, três, quatro, cinco. No sexto, um e o três tentaram falar novamente. Então teve que parar e voltar o quê? Voltar de novo para falar o quê? Para falar no oitavo. O oitavo slot que o primeiro nó falou. E no nono nó, o terceiro nó falou. E não houve então colisões. Então vocês estão vendo aqui que esse é o mecanismo de slot da Aloha. Onde eu tenho o quê? Eu tenho tempos certos. A cada segundo, a cada dois segundos, a cada três segundos, quatro segundos. Eles podem então lançar um pacote nesse meio e poder transmitir esse pacote. Entretanto, colisões podem ocorrer. O Aloha puro não existe o quê? Não existe esses esforços. Ele pode ser um pacote de três slots com tempos demarcados. No lugar disso, o que a gente tem? Cada pacote pode falar o tempo que quiser. Porém, vai ter um problema. Por exemplo, esse quadro aqui que foi transmitido nesse ponto, ela vai colidir com esse quadro aqui, assim como com esse quadro aqui. Não existe a necessidade de se esperar pelos slots específicos. Ou seja, a cada 15 segundos, vocês vão falar. Vocês têm liberdade para fazer uma pergunta. Então, a cada 15 segundos, eu tenho o quê? Eu tenho um slot específico. Aqui não. Qualquer hora, vocês podem falar. Colisões podem ocorrer. Uma vez que a gente está tratando o quê? De acesso múltiplo. A gente não está tratando de divisão de canal. E nem do terceiro mecanismo, onde a gente tem uma passagem de revezamento. Então, a gente tem uma passagem de revezamento. Então, nesse cenário aqui, colisões podem ocorrer. Nesse caso aí, um pacote que foi enviado em T0, ocorreu colisões com o primeiro e o terceiro pacote. Finalmente, o protocolo que a gente tem utilizado na internet, o CSMA, o CSMA-CD. Ele é baseado em duas regras educadas. Primeiro, ouça antes de falar. Então, ele vai ouvir o canal se tem alguém falando. Se não tiver, ele tenta falar. Entretanto, se alguém começar a falar ao mesmo tempo que você, então, o que eu faço? Pare, então, de quê? De falar. Então, ele vai parar de falar. De forma o quê? De forma que as colisões não vejam causar maior estrago. Então, são essas duas premissas básicas que ocorrem. Existe essa collision detection aqui, que seria o quê? Enquanto eu estiver falando, eu verifico se alguém não tentou falar. Se alguém tentou falar ao mesmo tempo, então, ocorre a colisão e o pacote, então, deixa de ser transmitido. Como esse cenário que vocês estão vendo aqui. Digamos assim, se um determinado hospedeiro tenta falar e o primeiro passo dele nesse cenário é ouvir o meio, ele vai ouvir. Se não tiver ninguém falando, ele vai lançar o pacote. Ele vai lançar o pacote dele. Entretanto, um outro que também estava ouvindo o meio, depois de um determinado período de tempo, tenta o quê? Tenta lançar o pacote. Ele ouve o meio por um determinado período de tempo, como não há ninguém falando, ele lança o pacote. Nota que para esse pacote transitar aqui do B até essa colisão aqui, demora um tempo. Em função disso, ele não percebeu que o pacote já tinha sido lançado, mesmo que ele tenha estado ouvindo o meio. Esse é o cenário. Então, como ele lançou os pacotes quase que ao mesmo tempo, ele não conseguiu detectar que já tinha alguém falando nesse meio. E o que o CSMA-CD faz? No momento em que ocorre a colisão, ele aborta o quê? Ele aborta essa transmissão. E assim evita o quê? Evita que esses pacotes sejam perdidos e que o canal fique dedicado a esses dois durante o tempo do pacote. Então, no lugar disso, o que eu faço? Aborto a transmissão para que outros que queiram falar possam, então, utilizar esse meio com o quê? Sem que o pacote desses dois hospedeiros estejam no meio. Então, essa seria a eficiência aí do CSMA-CD. E, finalmente, aqui, então, a gente tem os protocolos MAC de revezamento, onde a gente tem um protocolo de pólen, que eu já falei para vocês, onde ele pergunta um por um, assim como o de revezamento, que é baseado em uma ficha, que é transmitida no meio de comunicação. Bom, gente, concluindo aqui os conceitos básicos da camada de enlace, a gente falou, então, dos mecanismos de acesso ao meio. Existe acesso ao meio utilizando o acesso múltiplo, dividindo-se o canal, assim como o acesso ao meio, utilizando-se o quê? Utilizando-se a maneira aleatória, onde os pacotes podem colidir, mas que aí eles vão ter que resolver, vamos dizer assim, essa colisão. Isso é utilizado pela internet, como vocês vão ver. O CSMA-CD utiliza esse mecanismo. E, finalmente, o de revezamento aí, que utiliza o quê? Utiliza o mecanismo de pólen, onde eu dou a vez para cada hospedeiro, ou posso passar uma ficha para que os hospedeiros que quiserem falar escrevam as suas mensagens nessa ficha, incluindo aí o destinatário. Próxima aula, então, a gente vai falar sobre o quê? A camada de enlace que é implementada na internet. Agradeço a atenção de vocês. Então, me despeço aqui e espero vocês para a aula de número 14. Obrigado. Legenda Pedro Esteves Legenda Pedro Esteves'"
      ]
     },
     "execution_count": 5,
     "metadata": {},
     "output_type": "execute_result"
    }
   ],
   "source": [
    "result['text']"
   ]
  }
 ],
 "metadata": {
  "kernelspec": {
   "display_name": "Python 3 (ipykernel)",
   "language": "python",
   "name": "python3"
  },
  "language_info": {
   "codemirror_mode": {
    "name": "ipython",
    "version": 3
   },
   "file_extension": ".py",
   "mimetype": "text/x-python",
   "name": "python",
   "nbconvert_exporter": "python",
   "pygments_lexer": "ipython3",
   "version": "3.12.4"
  }
 },
 "nbformat": 4,
 "nbformat_minor": 5
}
