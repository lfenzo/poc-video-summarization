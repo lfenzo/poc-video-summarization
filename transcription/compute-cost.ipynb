{
 "cells": [
  {
   "cell_type": "code",
   "execution_count": null,
   "id": "250c07fc-08b1-4033-88d6-53b3774f8c15",
   "metadata": {},
   "outputs": [],
   "source": [
    "import os\n",
    "\n",
    "import torch\n",
    "import pandas as pd\n",
    "from torch.autograd import profiler\n",
    "import whisper\n",
    "from time import perf_counter"
   ]
  },
  {
   "cell_type": "code",
   "execution_count": null,
   "id": "8104024e-2d1b-40e9-87a9-054f91c95c82",
   "metadata": {},
   "outputs": [],
   "source": [
    "def get_max_memory_allocation():\n",
    "    return torch.cuda.max_memory_allocated() / (1024 ** 3)\n",
    "    \n",
    "def get_video_category(filename: str):\n",
    "    video_number = int(filename.split('.')[0][-1])\n",
    "    if video_number <= 2:\n",
    "        return 1\n",
    "    elif video_number >= 5:\n",
    "        return 3\n",
    "    else:\n",
    "        return 2"
   ]
  },
  {
   "cell_type": "code",
   "execution_count": null,
   "id": "42d511da-7f7f-4971-b32d-efce6997e363",
   "metadata": {},
   "outputs": [],
   "source": [
    "model_sizes = ['tiny', 'base', 'small', 'medium', 'large']\n",
    "audio_samples = [os.path.join('audios', file) for file in os.listdir('audios')] \n",
    "device = 'cpu'"
   ]
  },
  {
   "cell_type": "code",
   "execution_count": null,
   "id": "9971686f-7505-45cd-9467-c627bab085ce",
   "metadata": {},
   "outputs": [],
   "source": [
    "results = pd.DataFrame()"
   ]
  },
  {
   "cell_type": "code",
   "execution_count": null,
   "id": "330883ec-8bb7-4d74-96bb-cce93642b36b",
   "metadata": {},
   "outputs": [],
   "source": [
    "all_results = []\n",
    "\n",
    "for size in model_sizes:\n",
    "    for sample in audio_samples:\n",
    "        model = whisper.load_model(size, device=device)\n",
    "        \n",
    "        start_time = perf_counter()\n",
    "        model.transcribe(sample)\n",
    "        end_time = perf_counter()\n",
    "        time_elapsed = end_time - start_time\n",
    "        \n",
    "        results = {\n",
    "            'video': sample,\n",
    "            'category': get_video_category(filename=sample),\n",
    "            'gpu_memory': get_max_memory_allocation(),\n",
    "            'model': size,\n",
    "            'time_elapsed': time_elapsed,\n",
    "        }\n",
    "\n",
    "        print(f\"Ran {size=} with {sample=} taking {time_elapsed} seconds\")\n",
    "        \n",
    "        del model\n",
    "        torch.cuda.empty_cache()\n",
    "        all_results.append(results) "
   ]
  },
  {
   "cell_type": "code",
   "execution_count": null,
   "id": "5f77de8d-96e2-4bbf-929e-412b1ee92c87",
   "metadata": {},
   "outputs": [],
   "source": [
    "df = pd.DataFrame.from_dict(all_results)\n",
    "df.to_csv('analysis-data/memory_results_cpu.csv', index=False)"
   ]
  }
 ],
 "metadata": {
  "kernelspec": {
   "display_name": "Python 3 (ipykernel)",
   "language": "python",
   "name": "python3"
  },
  "language_info": {
   "codemirror_mode": {
    "name": "ipython",
    "version": 3
   },
   "file_extension": ".py",
   "mimetype": "text/x-python",
   "name": "python",
   "nbconvert_exporter": "python",
   "pygments_lexer": "ipython3",
   "version": "3.12.4"
  }
 },
 "nbformat": 4,
 "nbformat_minor": 5
}
