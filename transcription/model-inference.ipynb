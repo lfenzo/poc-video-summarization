{
 "cells": [
  {
   "cell_type": "code",
   "execution_count": 1,
   "id": "e1616601-4a13-4e2a-8ea4-820ecd247331",
   "metadata": {
    "execution": {
     "iopub.execute_input": "2024-07-10T20:40:13.788395Z",
     "iopub.status.busy": "2024-07-10T20:40:13.788216Z",
     "iopub.status.idle": "2024-07-10T20:40:14.532589Z",
     "shell.execute_reply": "2024-07-10T20:40:14.532212Z",
     "shell.execute_reply.started": "2024-07-10T20:40:13.788381Z"
    }
   },
   "outputs": [],
   "source": [
    "import os\n",
    "import pandas as pd\n",
    "import whisper"
   ]
  },
  {
   "cell_type": "code",
   "execution_count": 6,
   "id": "840b2c54-e2eb-42c3-be14-07eb0aa971d1",
   "metadata": {
    "execution": {
     "iopub.execute_input": "2024-07-10T20:43:03.920952Z",
     "iopub.status.busy": "2024-07-10T20:43:03.920840Z",
     "iopub.status.idle": "2024-07-10T20:43:17.838126Z",
     "shell.execute_reply": "2024-07-10T20:43:17.837797Z",
     "shell.execute_reply.started": "2024-07-10T20:43:03.920944Z"
    }
   },
   "outputs": [],
   "source": [
    "model_size = 'large'\n",
    "file = \"video1.mp3\"\n",
    "audio_directory = 'audios'\n",
    "transcription_directory = 'transcriptions'\n",
    "\n",
    "model = whisper.load_model(model_size)\n",
    "result = model.transcribe(os.path.join(audio_directory, file))\n",
    "\n",
    "del model  # manually deallocating VRAM (prevents OutOfMemory when reexecuting this cell)"
   ]
  },
  {
   "cell_type": "code",
   "execution_count": 3,
   "id": "8d7a0758-b85b-42bf-af90-274d6d2e7960",
   "metadata": {
    "execution": {
     "iopub.execute_input": "2024-07-10T20:40:29.102814Z",
     "iopub.status.busy": "2024-07-10T20:40:29.102736Z",
     "iopub.status.idle": "2024-07-10T20:40:29.105675Z",
     "shell.execute_reply": "2024-07-10T20:40:29.105488Z",
     "shell.execute_reply.started": "2024-07-10T20:40:29.102807Z"
    }
   },
   "outputs": [
    {
     "data": {
      "text/plain": [
       "dict_keys(['text', 'segments', 'language'])"
      ]
     },
     "execution_count": 3,
     "metadata": {},
     "output_type": "execute_result"
    }
   ],
   "source": [
    "result.keys()"
   ]
  },
  {
   "cell_type": "code",
   "execution_count": 4,
   "id": "f9d83f8a-249c-4b4a-a3a4-a8ca4e97931a",
   "metadata": {
    "execution": {
     "iopub.execute_input": "2024-07-10T20:40:29.106216Z",
     "iopub.status.busy": "2024-07-10T20:40:29.106109Z",
     "iopub.status.idle": "2024-07-10T20:40:29.128990Z",
     "shell.execute_reply": "2024-07-10T20:40:29.128685Z",
     "shell.execute_reply.started": "2024-07-10T20:40:29.106209Z"
    }
   },
   "outputs": [],
   "source": [
    "transcription_location = os.path.join(transcription_directory, f\"{model_size}_{file}\")\n",
    "\n",
    "if not os.path.exists(transcription_location):\n",
    "    os.mkdir(transcription_location)\n",
    "\n",
    "with open(transcription_location), 'w') as file:\n",
    "    file.write(result['text'])"
   ]
  },
  {
   "cell_type": "code",
   "execution_count": 5,
   "id": "d5c2cb22-dbb1-4d55-a439-414b6fd29133",
   "metadata": {
    "execution": {
     "iopub.execute_input": "2024-07-10T20:40:29.129450Z",
     "iopub.status.busy": "2024-07-10T20:40:29.129354Z",
     "iopub.status.idle": "2024-07-10T20:40:29.131197Z",
     "shell.execute_reply": "2024-07-10T20:40:29.131025Z",
     "shell.execute_reply.started": "2024-07-10T20:40:29.129442Z"
    }
   },
   "outputs": [
    {
     "data": {
      "text/plain": [
       "' O que é e como funciona o Wi-Fi? O Wi-Fi significa Wireless Fidelity, que traduzido fica mais ou menos como Fidelidade Sem Fio. É uma conexão do padrão IEEE do 802.11 que permite a conexão entre diversos dispositivos sem fio. As redes Wi-Fi fazem uso de ondas de rádios comuns para transmitir as informações de internet, assim como acontece com a televisão, rádio e celular, por exemplo. Essas redes funcionam através de um sistema de rádio, através de ondas de rádios transmitidas por meio de um adaptador, o roteador, que recebe os sinais, decodifica e os emite para uma antena, sendo a parte principal do Wi-Fi. Os sinais de internet emitidos pelos roteadores podem chegar por via cabo, linha telefônica, ondas de rádio, como é o caso do 3G ou 4G, até os aparelhos que suportam essa tecnologia. Para que o dispositivo tenha um sistema de rádio, e tenha acesso a esses sinais, é preciso que ele esteja dentro de um hotspot, ou seja, dentro de um determinado raio de ação, ou seja, dentro de um determinado alcance, onde que o Wi-Fi consegue chegar. A comunicação entre os dispositivos conectados na rede Wi-Fi é feita através do protocolo 802.11, que possibilita a eles reconhecerem as informações uns dos outros. Esse protocolo apresenta... várias variações. Bom pessoal, esse foi o vídeo de hoje, eu espero que vocês tenham gostado, se vocês gostaram, deixe seu gostei embaixo, compartilhe o vídeo para que todo mundo possa saber, e também, se inscreva no canal e favorite o vídeo, beleza? Até a próxima e muito obrigado!'"
      ]
     },
     "execution_count": 5,
     "metadata": {},
     "output_type": "execute_result"
    }
   ],
   "source": [
    "result['text']"
   ]
  }
 ],
 "metadata": {
  "kernelspec": {
   "display_name": "Python 3 (ipykernel)",
   "language": "python",
   "name": "python3"
  },
  "language_info": {
   "codemirror_mode": {
    "name": "ipython",
    "version": 3
   },
   "file_extension": ".py",
   "mimetype": "text/x-python",
   "name": "python",
   "nbconvert_exporter": "python",
   "pygments_lexer": "ipython3",
   "version": "3.12.4"
  }
 },
 "nbformat": 4,
 "nbformat_minor": 5
}
